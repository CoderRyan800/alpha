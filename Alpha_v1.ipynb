{
  "nbformat": 4,
  "nbformat_minor": 0,
  "metadata": {
    "colab": {
      "name": "Alpha_v1.ipynb",
      "provenance": [],
      "collapsed_sections": [],
      "include_colab_link": true
    },
    "kernelspec": {
      "name": "python3",
      "display_name": "Python 3"
    }
  },
  "cells": [
    {
      "cell_type": "markdown",
      "metadata": {
        "id": "view-in-github",
        "colab_type": "text"
      },
      "source": [
        "<a href=\"https://colab.research.google.com/github/CoderRyan800/alpha/blob/master/Alpha_v1.ipynb\" target=\"_parent\"><img src=\"https://colab.research.google.com/assets/colab-badge.svg\" alt=\"Open In Colab\"/></a>"
      ]
    },
    {
      "cell_type": "markdown",
      "metadata": {
        "id": "k6ShgBv7RXnY",
        "colab_type": "text"
      },
      "source": [
        "# ALPHA\n",
        "\n",
        "This notebook contains a brief demonstration of LSTM based agents with very simple self-awareness and the ability to collaborate to solve a simple logical problem.  An article describing this work has been published in Medium at https://medium.com/@ryan20083437/simple-reasoning-and-knowledge-states-in-a-lstm-based-agent-4e603780cc08."
      ]
    },
    {
      "cell_type": "markdown",
      "metadata": {
        "id": "bryT5ckZSaQY",
        "colab_type": "text"
      },
      "source": [
        "In the cell below, we clone our Git repository with the \"alpha\" code.  We are specifying Tensorflow 1.x because our code was originally written for that version of Tensorflow.  Feel free to browse our code at https://github.com/CoderRyan800/alpha.git."
      ]
    },
    {
      "cell_type": "code",
      "metadata": {
        "id": "DGJ_VacJSYOP",
        "colab_type": "code",
        "outputId": "87e6f400-8eed-4f0d-8111-d6574a399844",
        "colab": {
          "base_uri": "https://localhost:8080/",
          "height": 153
        }
      },
      "source": [
        "%tensorflow_version 1.x\n",
        "import tensorflow as tf\n",
        "print(tf.__version__)\n",
        "!git clone https://github.com/CoderRyan800/alpha.git"
      ],
      "execution_count": 1,
      "outputs": [
        {
          "output_type": "stream",
          "text": [
            "1.15.0\n",
            "Cloning into 'alpha'...\n",
            "remote: Enumerating objects: 22, done.\u001b[K\n",
            "remote: Counting objects: 100% (22/22), done.\u001b[K\n",
            "remote: Compressing objects: 100% (15/15), done.\u001b[K\n",
            "remote: Total 147 (delta 12), reused 15 (delta 7), pack-reused 125\u001b[K\n",
            "Receiving objects: 100% (147/147), 67.76 MiB | 36.29 MiB/s, done.\n",
            "Resolving deltas: 100% (80/80), done.\n"
          ],
          "name": "stdout"
        }
      ]
    },
    {
      "cell_type": "markdown",
      "metadata": {
        "id": "wMQ2XWW9Skm_",
        "colab_type": "text"
      },
      "source": [
        "The cell below installs alpha into the Colab runtime environment and changes the working directory to the data directory."
      ]
    },
    {
      "cell_type": "code",
      "metadata": {
        "id": "E7dtKnHLSw-N",
        "colab_type": "code",
        "outputId": "e53331f1-e6ea-475f-e6a2-48d58404d43a",
        "colab": {
          "base_uri": "https://localhost:8080/",
          "height": 1000
        }
      },
      "source": [
        "%cd alpha\n",
        "%pwd\n",
        "!pip install .\n",
        "\n",
        "%cd data\n",
        "%pwd\n",
        "!ls -alrt"
      ],
      "execution_count": 2,
      "outputs": [
        {
          "output_type": "stream",
          "text": [
            "/content/alpha\n",
            "Processing /content/alpha\n",
            "Requirement already satisfied: numpy in /usr/local/lib/python3.6/dist-packages (from logic-processor==0.1.dev0) (1.17.4)\n",
            "Requirement already satisfied: matplotlib in /usr/local/lib/python3.6/dist-packages (from logic-processor==0.1.dev0) (3.1.2)\n",
            "Requirement already satisfied: tensorflow in /usr/local/lib/python3.6/dist-packages (from logic-processor==0.1.dev0) (1.15.0)\n",
            "Requirement already satisfied: keras in /usr/local/lib/python3.6/dist-packages (from logic-processor==0.1.dev0) (2.2.5)\n",
            "Requirement already satisfied: pandas in /usr/local/lib/python3.6/dist-packages (from logic-processor==0.1.dev0) (0.25.3)\n",
            "Requirement already satisfied: jupyter in /usr/local/lib/python3.6/dist-packages (from logic-processor==0.1.dev0) (1.0.0)\n",
            "Requirement already satisfied: python-dateutil>=2.1 in /usr/local/lib/python3.6/dist-packages (from matplotlib->logic-processor==0.1.dev0) (2.6.1)\n",
            "Requirement already satisfied: pyparsing!=2.0.4,!=2.1.2,!=2.1.6,>=2.0.1 in /usr/local/lib/python3.6/dist-packages (from matplotlib->logic-processor==0.1.dev0) (2.4.5)\n",
            "Requirement already satisfied: cycler>=0.10 in /usr/local/lib/python3.6/dist-packages (from matplotlib->logic-processor==0.1.dev0) (0.10.0)\n",
            "Requirement already satisfied: kiwisolver>=1.0.1 in /usr/local/lib/python3.6/dist-packages (from matplotlib->logic-processor==0.1.dev0) (1.1.0)\n",
            "Requirement already satisfied: tensorflow-estimator==1.15.1 in /usr/local/lib/python3.6/dist-packages (from tensorflow->logic-processor==0.1.dev0) (1.15.1)\n",
            "Requirement already satisfied: termcolor>=1.1.0 in /usr/local/lib/python3.6/dist-packages (from tensorflow->logic-processor==0.1.dev0) (1.1.0)\n",
            "Requirement already satisfied: opt-einsum>=2.3.2 in /usr/local/lib/python3.6/dist-packages (from tensorflow->logic-processor==0.1.dev0) (3.1.0)\n",
            "Requirement already satisfied: keras-applications>=1.0.8 in /usr/local/lib/python3.6/dist-packages (from tensorflow->logic-processor==0.1.dev0) (1.0.8)\n",
            "Requirement already satisfied: google-pasta>=0.1.6 in /usr/local/lib/python3.6/dist-packages (from tensorflow->logic-processor==0.1.dev0) (0.1.8)\n",
            "Requirement already satisfied: protobuf>=3.6.1 in /usr/local/lib/python3.6/dist-packages (from tensorflow->logic-processor==0.1.dev0) (3.10.0)\n",
            "Requirement already satisfied: tensorboard<1.16.0,>=1.15.0 in /usr/local/lib/python3.6/dist-packages (from tensorflow->logic-processor==0.1.dev0) (1.15.0)\n",
            "Requirement already satisfied: wheel>=0.26 in /usr/local/lib/python3.6/dist-packages (from tensorflow->logic-processor==0.1.dev0) (0.33.6)\n",
            "Requirement already satisfied: keras-preprocessing>=1.0.5 in /usr/local/lib/python3.6/dist-packages (from tensorflow->logic-processor==0.1.dev0) (1.1.0)\n",
            "Requirement already satisfied: absl-py>=0.7.0 in /usr/local/lib/python3.6/dist-packages (from tensorflow->logic-processor==0.1.dev0) (0.8.1)\n",
            "Requirement already satisfied: six>=1.10.0 in /usr/local/lib/python3.6/dist-packages (from tensorflow->logic-processor==0.1.dev0) (1.12.0)\n",
            "Requirement already satisfied: wrapt>=1.11.1 in /usr/local/lib/python3.6/dist-packages (from tensorflow->logic-processor==0.1.dev0) (1.11.2)\n",
            "Requirement already satisfied: gast==0.2.2 in /usr/local/lib/python3.6/dist-packages (from tensorflow->logic-processor==0.1.dev0) (0.2.2)\n",
            "Requirement already satisfied: astor>=0.6.0 in /usr/local/lib/python3.6/dist-packages (from tensorflow->logic-processor==0.1.dev0) (0.8.1)\n",
            "Requirement already satisfied: grpcio>=1.8.6 in /usr/local/lib/python3.6/dist-packages (from tensorflow->logic-processor==0.1.dev0) (1.15.0)\n",
            "Requirement already satisfied: h5py in /usr/local/lib/python3.6/dist-packages (from keras->logic-processor==0.1.dev0) (2.8.0)\n",
            "Requirement already satisfied: scipy>=0.14 in /usr/local/lib/python3.6/dist-packages (from keras->logic-processor==0.1.dev0) (1.3.3)\n",
            "Requirement already satisfied: pyyaml in /usr/local/lib/python3.6/dist-packages (from keras->logic-processor==0.1.dev0) (3.13)\n",
            "Requirement already satisfied: pytz>=2017.2 in /usr/local/lib/python3.6/dist-packages (from pandas->logic-processor==0.1.dev0) (2018.9)\n",
            "Requirement already satisfied: ipywidgets in /usr/local/lib/python3.6/dist-packages (from jupyter->logic-processor==0.1.dev0) (7.5.1)\n",
            "Requirement already satisfied: jupyter-console in /usr/local/lib/python3.6/dist-packages (from jupyter->logic-processor==0.1.dev0) (5.2.0)\n",
            "Requirement already satisfied: notebook in /usr/local/lib/python3.6/dist-packages (from jupyter->logic-processor==0.1.dev0) (5.2.2)\n",
            "Requirement already satisfied: qtconsole in /usr/local/lib/python3.6/dist-packages (from jupyter->logic-processor==0.1.dev0) (4.6.0)\n",
            "Requirement already satisfied: nbconvert in /usr/local/lib/python3.6/dist-packages (from jupyter->logic-processor==0.1.dev0) (5.6.1)\n",
            "Requirement already satisfied: ipykernel in /usr/local/lib/python3.6/dist-packages (from jupyter->logic-processor==0.1.dev0) (4.6.1)\n",
            "Requirement already satisfied: setuptools in /usr/local/lib/python3.6/dist-packages (from kiwisolver>=1.0.1->matplotlib->logic-processor==0.1.dev0) (42.0.2)\n",
            "Requirement already satisfied: werkzeug>=0.11.15 in /usr/local/lib/python3.6/dist-packages (from tensorboard<1.16.0,>=1.15.0->tensorflow->logic-processor==0.1.dev0) (0.16.0)\n",
            "Requirement already satisfied: markdown>=2.6.8 in /usr/local/lib/python3.6/dist-packages (from tensorboard<1.16.0,>=1.15.0->tensorflow->logic-processor==0.1.dev0) (3.1.1)\n",
            "Requirement already satisfied: widgetsnbextension~=3.5.0 in /usr/local/lib/python3.6/dist-packages (from ipywidgets->jupyter->logic-processor==0.1.dev0) (3.5.1)\n",
            "Requirement already satisfied: ipython>=4.0.0; python_version >= \"3.3\" in /usr/local/lib/python3.6/dist-packages (from ipywidgets->jupyter->logic-processor==0.1.dev0) (5.5.0)\n",
            "Requirement already satisfied: nbformat>=4.2.0 in /usr/local/lib/python3.6/dist-packages (from ipywidgets->jupyter->logic-processor==0.1.dev0) (4.4.0)\n",
            "Requirement already satisfied: traitlets>=4.3.1 in /usr/local/lib/python3.6/dist-packages (from ipywidgets->jupyter->logic-processor==0.1.dev0) (4.3.3)\n",
            "Requirement already satisfied: jupyter-client in /usr/local/lib/python3.6/dist-packages (from jupyter-console->jupyter->logic-processor==0.1.dev0) (5.3.4)\n",
            "Requirement already satisfied: prompt-toolkit<2.0.0,>=1.0.0 in /usr/local/lib/python3.6/dist-packages (from jupyter-console->jupyter->logic-processor==0.1.dev0) (1.0.18)\n",
            "Requirement already satisfied: pygments in /usr/local/lib/python3.6/dist-packages (from jupyter-console->jupyter->logic-processor==0.1.dev0) (2.1.3)\n",
            "Requirement already satisfied: jupyter-core in /usr/local/lib/python3.6/dist-packages (from notebook->jupyter->logic-processor==0.1.dev0) (4.6.1)\n",
            "Requirement already satisfied: ipython-genutils in /usr/local/lib/python3.6/dist-packages (from notebook->jupyter->logic-processor==0.1.dev0) (0.2.0)\n",
            "Requirement already satisfied: tornado>=4 in /usr/local/lib/python3.6/dist-packages (from notebook->jupyter->logic-processor==0.1.dev0) (4.5.3)\n",
            "Requirement already satisfied: terminado>=0.3.3; sys_platform != \"win32\" in /usr/local/lib/python3.6/dist-packages (from notebook->jupyter->logic-processor==0.1.dev0) (0.8.3)\n",
            "Requirement already satisfied: jinja2 in /usr/local/lib/python3.6/dist-packages (from notebook->jupyter->logic-processor==0.1.dev0) (2.10.3)\n",
            "Requirement already satisfied: testpath in /usr/local/lib/python3.6/dist-packages (from nbconvert->jupyter->logic-processor==0.1.dev0) (0.4.4)\n",
            "Requirement already satisfied: bleach in /usr/local/lib/python3.6/dist-packages (from nbconvert->jupyter->logic-processor==0.1.dev0) (3.1.0)\n",
            "Requirement already satisfied: pandocfilters>=1.4.1 in /usr/local/lib/python3.6/dist-packages (from nbconvert->jupyter->logic-processor==0.1.dev0) (1.4.2)\n",
            "Requirement already satisfied: defusedxml in /usr/local/lib/python3.6/dist-packages (from nbconvert->jupyter->logic-processor==0.1.dev0) (0.6.0)\n",
            "Requirement already satisfied: mistune<2,>=0.8.1 in /usr/local/lib/python3.6/dist-packages (from nbconvert->jupyter->logic-processor==0.1.dev0) (0.8.4)\n",
            "Requirement already satisfied: entrypoints>=0.2.2 in /usr/local/lib/python3.6/dist-packages (from nbconvert->jupyter->logic-processor==0.1.dev0) (0.3)\n",
            "Requirement already satisfied: decorator in /usr/local/lib/python3.6/dist-packages (from ipython>=4.0.0; python_version >= \"3.3\"->ipywidgets->jupyter->logic-processor==0.1.dev0) (4.4.1)\n",
            "Requirement already satisfied: simplegeneric>0.8 in /usr/local/lib/python3.6/dist-packages (from ipython>=4.0.0; python_version >= \"3.3\"->ipywidgets->jupyter->logic-processor==0.1.dev0) (0.8.1)\n",
            "Requirement already satisfied: pickleshare in /usr/local/lib/python3.6/dist-packages (from ipython>=4.0.0; python_version >= \"3.3\"->ipywidgets->jupyter->logic-processor==0.1.dev0) (0.7.5)\n",
            "Requirement already satisfied: pexpect; sys_platform != \"win32\" in /usr/local/lib/python3.6/dist-packages (from ipython>=4.0.0; python_version >= \"3.3\"->ipywidgets->jupyter->logic-processor==0.1.dev0) (4.7.0)\n",
            "Requirement already satisfied: jsonschema!=2.5.0,>=2.4 in /usr/local/lib/python3.6/dist-packages (from nbformat>=4.2.0->ipywidgets->jupyter->logic-processor==0.1.dev0) (2.6.0)\n",
            "Requirement already satisfied: pyzmq>=13 in /usr/local/lib/python3.6/dist-packages (from jupyter-client->jupyter-console->jupyter->logic-processor==0.1.dev0) (17.0.0)\n",
            "Requirement already satisfied: wcwidth in /usr/local/lib/python3.6/dist-packages (from prompt-toolkit<2.0.0,>=1.0.0->jupyter-console->jupyter->logic-processor==0.1.dev0) (0.1.7)\n",
            "Requirement already satisfied: ptyprocess; os_name != \"nt\" in /usr/local/lib/python3.6/dist-packages (from terminado>=0.3.3; sys_platform != \"win32\"->notebook->jupyter->logic-processor==0.1.dev0) (0.6.0)\n",
            "Requirement already satisfied: MarkupSafe>=0.23 in /usr/local/lib/python3.6/dist-packages (from jinja2->notebook->jupyter->logic-processor==0.1.dev0) (1.1.1)\n",
            "Requirement already satisfied: webencodings in /usr/local/lib/python3.6/dist-packages (from bleach->nbconvert->jupyter->logic-processor==0.1.dev0) (0.5.1)\n",
            "Building wheels for collected packages: logic-processor\n",
            "  Building wheel for logic-processor (setup.py) ... \u001b[?25l\u001b[?25hdone\n",
            "  Created wheel for logic-processor: filename=logic_processor-0.1.dev0-cp36-none-any.whl size=18705 sha256=ee6740b5edc9002493a3e02d6b3119cedd6a67831e924ee3c7ad7cca9836ad18\n",
            "  Stored in directory: /tmp/pip-ephem-wheel-cache-iebnphu3/wheels/9b/3a/bb/3bca377bf9fb3f907e9d99341e3001773fdc81d8c977f64392\n",
            "Successfully built logic-processor\n",
            "Installing collected packages: logic-processor\n",
            "Successfully installed logic-processor-0.1.dev0\n",
            "/content/alpha/data\n",
            "total 26676\n",
            "-rw-r--r-- 1 root root       46 Dec 31 22:30 .gitignore\n",
            "drwxr-xr-x 2 root root     4096 Dec 31 22:30 .\n",
            "-rw-r--r-- 1 root root 27706040 Dec 31 22:30 trained_model_prop_new_2048.h5\n",
            "drwxr-xr-x 7 root root     4096 Dec 31 22:30 ..\n"
          ],
          "name": "stdout"
        }
      ]
    },
    {
      "cell_type": "markdown",
      "metadata": {
        "id": "DZrj4MxxDvjm",
        "colab_type": "text"
      },
      "source": [
        "The cell below will retrieve reference data used by our code from Amazon S3.  Feel free to browse the links below if you wish to download the data to your local system."
      ]
    },
    {
      "cell_type": "code",
      "metadata": {
        "id": "33JiNK3zRdYj",
        "colab_type": "code",
        "outputId": "e88bf4a3-583b-485e-b042-4653f2591d43",
        "colab": {
          "base_uri": "https://localhost:8080/",
          "height": 1000
        }
      },
      "source": [
        "!wget https://alpha-demo.s3.amazonaws.com/data_set_0_X1.npy\n",
        "!wget https://alpha-demo.s3.amazonaws.com/data_set_0_Y1.npy\n",
        "!wget https://alpha-demo.s3.amazonaws.com/data_set_0_Y2.npy\n",
        "!wget https://alpha-demo.s3.amazonaws.com/data_set_0_template_choices.pck\n",
        "!wget https://alpha-demo.s3.amazonaws.com/data_set_0_one_hot_dictionary.pck\n",
        "!wget https://alpha-demo.s3.amazonaws.com/data_set_0_question_template_list.pck\n",
        "!wget https://alpha-demo.s3.amazonaws.com/data_set_0_answer_template_list.pck\n",
        "#!wget https://alpha-demo.s3.amazonaws.com/trained_model_prop_new_2048.h5"
      ],
      "execution_count": 3,
      "outputs": [
        {
          "output_type": "stream",
          "text": [
            "--2019-12-31 22:30:52--  https://alpha-demo.s3.amazonaws.com/data_set_0_X1.npy\n",
            "Resolving alpha-demo.s3.amazonaws.com (alpha-demo.s3.amazonaws.com)... 52.217.46.164\n",
            "Connecting to alpha-demo.s3.amazonaws.com (alpha-demo.s3.amazonaws.com)|52.217.46.164|:443... connected.\n",
            "HTTP request sent, awaiting response... 200 OK\n",
            "Length: 380160128 (363M) [application/x-www-form-urlencoded]\n",
            "Saving to: ‘data_set_0_X1.npy’\n",
            "\n",
            "data_set_0_X1.npy   100%[===================>] 362.55M  91.4MB/s    in 4.1s    \n",
            "\n",
            "2019-12-31 22:30:57 (87.9 MB/s) - ‘data_set_0_X1.npy’ saved [380160128/380160128]\n",
            "\n",
            "--2019-12-31 22:30:59--  https://alpha-demo.s3.amazonaws.com/data_set_0_Y1.npy\n",
            "Resolving alpha-demo.s3.amazonaws.com (alpha-demo.s3.amazonaws.com)... 52.216.236.131\n",
            "Connecting to alpha-demo.s3.amazonaws.com (alpha-demo.s3.amazonaws.com)|52.216.236.131|:443... connected.\n",
            "HTTP request sent, awaiting response... 200 OK\n",
            "Length: 380160128 (363M) [application/x-www-form-urlencoded]\n",
            "Saving to: ‘data_set_0_Y1.npy’\n",
            "\n",
            "data_set_0_Y1.npy   100%[===================>] 362.55M  42.2MB/s    in 8.6s    \n",
            "\n",
            "2019-12-31 22:31:08 (42.3 MB/s) - ‘data_set_0_Y1.npy’ saved [380160128/380160128]\n",
            "\n",
            "--2019-12-31 22:31:09--  https://alpha-demo.s3.amazonaws.com/data_set_0_Y2.npy\n",
            "Resolving alpha-demo.s3.amazonaws.com (alpha-demo.s3.amazonaws.com)... 52.216.205.243\n",
            "Connecting to alpha-demo.s3.amazonaws.com (alpha-demo.s3.amazonaws.com)|52.216.205.243|:443... connected.\n",
            "HTTP request sent, awaiting response... 200 OK\n",
            "Length: 380160128 (363M) [application/x-www-form-urlencoded]\n",
            "Saving to: ‘data_set_0_Y2.npy’\n",
            "\n",
            "data_set_0_Y2.npy   100%[===================>] 362.55M  80.6MB/s    in 4.6s    \n",
            "\n",
            "2019-12-31 22:31:14 (78.3 MB/s) - ‘data_set_0_Y2.npy’ saved [380160128/380160128]\n",
            "\n",
            "--2019-12-31 22:31:15--  https://alpha-demo.s3.amazonaws.com/data_set_0_template_choices.pck\n",
            "Resolving alpha-demo.s3.amazonaws.com (alpha-demo.s3.amazonaws.com)... 52.216.170.3\n",
            "Connecting to alpha-demo.s3.amazonaws.com (alpha-demo.s3.amazonaws.com)|52.216.170.3|:443... connected.\n",
            "HTTP request sent, awaiting response... 200 OK\n",
            "Length: 31496 (31K) [binary/octet-stream]\n",
            "Saving to: ‘data_set_0_template_choices.pck’\n",
            "\n",
            "data_set_0_template 100%[===================>]  30.76K  --.-KB/s    in 0.03s   \n",
            "\n",
            "2019-12-31 22:31:15 (1.07 MB/s) - ‘data_set_0_template_choices.pck’ saved [31496/31496]\n",
            "\n",
            "--2019-12-31 22:31:17--  https://alpha-demo.s3.amazonaws.com/data_set_0_one_hot_dictionary.pck\n",
            "Resolving alpha-demo.s3.amazonaws.com (alpha-demo.s3.amazonaws.com)... 52.216.170.3\n",
            "Connecting to alpha-demo.s3.amazonaws.com (alpha-demo.s3.amazonaws.com)|52.216.170.3|:443... connected.\n",
            "HTTP request sent, awaiting response... 200 OK\n",
            "Length: 38951 (38K) [binary/octet-stream]\n",
            "Saving to: ‘data_set_0_one_hot_dictionary.pck’\n",
            "\n",
            "data_set_0_one_hot_ 100%[===================>]  38.04K  --.-KB/s    in 0.03s   \n",
            "\n",
            "2019-12-31 22:31:17 (1.31 MB/s) - ‘data_set_0_one_hot_dictionary.pck’ saved [38951/38951]\n",
            "\n",
            "--2019-12-31 22:31:19--  https://alpha-demo.s3.amazonaws.com/data_set_0_question_template_list.pck\n",
            "Resolving alpha-demo.s3.amazonaws.com (alpha-demo.s3.amazonaws.com)... 52.216.176.203\n",
            "Connecting to alpha-demo.s3.amazonaws.com (alpha-demo.s3.amazonaws.com)|52.216.176.203|:443... connected.\n",
            "HTTP request sent, awaiting response... 200 OK\n",
            "Length: 1818471 (1.7M) [binary/octet-stream]\n",
            "Saving to: ‘data_set_0_question_template_list.pck’\n",
            "\n",
            "data_set_0_question 100%[===================>]   1.73M  10.0MB/s    in 0.2s    \n",
            "\n",
            "2019-12-31 22:31:19 (10.0 MB/s) - ‘data_set_0_question_template_list.pck’ saved [1818471/1818471]\n",
            "\n",
            "--2019-12-31 22:31:21--  https://alpha-demo.s3.amazonaws.com/data_set_0_answer_template_list.pck\n",
            "Resolving alpha-demo.s3.amazonaws.com (alpha-demo.s3.amazonaws.com)... 52.216.176.203\n",
            "Connecting to alpha-demo.s3.amazonaws.com (alpha-demo.s3.amazonaws.com)|52.216.176.203|:443... connected.\n",
            "HTTP request sent, awaiting response... 200 OK\n",
            "Length: 1721341 (1.6M) [binary/octet-stream]\n",
            "Saving to: ‘data_set_0_answer_template_list.pck’\n",
            "\n",
            "data_set_0_answer_t 100%[===================>]   1.64M  9.48MB/s    in 0.2s    \n",
            "\n",
            "2019-12-31 22:31:21 (9.48 MB/s) - ‘data_set_0_answer_template_list.pck’ saved [1721341/1721341]\n",
            "\n"
          ],
          "name": "stdout"
        }
      ]
    },
    {
      "cell_type": "markdown",
      "metadata": {
        "id": "1UJ4MryEEC_R",
        "colab_type": "text"
      },
      "source": [
        "The cell below sets up the data path to refer to the data downloaded from Amazon S3 by the cell above.  It also imports the Python class, NN_Entity_1, that defines our agents (i.e. an agent is an instance of class NN_Entity_1).  It also imports the two_agent_demo function that is used to demonstrate collaborating agents."
      ]
    },
    {
      "cell_type": "code",
      "metadata": {
        "id": "OmIVMXLmcC1g",
        "colab_type": "code",
        "outputId": "6a70a33d-692a-4a80-d9a5-e1695b3a8adb",
        "colab": {
          "base_uri": "https://localhost:8080/",
          "height": 34
        }
      },
      "source": [
        "import re\n",
        "from neural.nn_entity_v1 import NN_Entity_1, two_agent_demo\n",
        "DATA_PATH=\"../data\""
      ],
      "execution_count": 4,
      "outputs": [
        {
          "output_type": "stream",
          "text": [
            "Using TensorFlow backend.\n"
          ],
          "name": "stderr"
        }
      ]
    },
    {
      "cell_type": "markdown",
      "metadata": {
        "id": "8QnkOoo_13j8",
        "colab_type": "text"
      },
      "source": [
        "You can provide the system with logic sentences that constitute the knowledge bases of each of two agents.  You can also provide the question for the first agent with the question you wish to ask.  Here is an example:\n",
        "\n",
        "1. agent_1_knowledge: a9 is false\n",
        "2. agent_2_knowledge: a3 or a9\n",
        "3. question for agent 1: what is a3 ?\n",
        "\n",
        "We begin by providing each agent object with its initial knowledge.  We then pose a question to agent 1.  If agent 1 is able to answer, it answers directly.\n",
        "If agent 1 cannot answer, it indicates this and gets help from agent 2.  Agent 2 dumps its knowledge base to agent 1.  Agent 1, using the new knowledge, will try to answer the question again."
      ]
    },
    {
      "cell_type": "code",
      "metadata": {
        "id": "PKi-wFTX3mII",
        "colab_type": "code",
        "colab": {}
      },
      "source": [
        "agent_1_knowledge = \"a9 is true\"\n",
        "agent_2_knowledge = \"a3 xor a9\"\n",
        "question_for_agent_1 = \"what is a3 ?\""
      ],
      "execution_count": 0,
      "outputs": []
    },
    {
      "cell_type": "markdown",
      "metadata": {
        "id": "nIVSR3i5EdO_",
        "colab_type": "text"
      },
      "source": [
        "The cell below invokes the two-agent demo with the knowledge states specified above.  Its output will show the interaction of the two agents."
      ]
    },
    {
      "cell_type": "code",
      "metadata": {
        "id": "CLp8Ia3Zw-Dl",
        "colab_type": "code",
        "outputId": "53da7560-6ea4-4b5f-b647-0829873d5593",
        "colab": {
          "base_uri": "https://localhost:8080/",
          "height": 802
        }
      },
      "source": [
        "two_agent_demo(agent_1_knowledge, agent_2_knowledge, question_for_agent_1)"
      ],
      "execution_count": 6,
      "outputs": [
        {
          "output_type": "stream",
          "text": [
            "WARNING:tensorflow:From /usr/local/lib/python3.6/dist-packages/keras/backend/tensorflow_backend.py:541: The name tf.placeholder is deprecated. Please use tf.compat.v1.placeholder instead.\n",
            "\n",
            "WARNING:tensorflow:From /usr/local/lib/python3.6/dist-packages/keras/backend/tensorflow_backend.py:66: The name tf.get_default_graph is deprecated. Please use tf.compat.v1.get_default_graph instead.\n",
            "\n",
            "WARNING:tensorflow:From /usr/local/lib/python3.6/dist-packages/keras/backend/tensorflow_backend.py:4432: The name tf.random_uniform is deprecated. Please use tf.random.uniform instead.\n",
            "\n",
            "WARNING:tensorflow:From /usr/local/lib/python3.6/dist-packages/keras/backend/tensorflow_backend.py:190: The name tf.get_default_session is deprecated. Please use tf.compat.v1.get_default_session instead.\n",
            "\n",
            "WARNING:tensorflow:From /usr/local/lib/python3.6/dist-packages/keras/backend/tensorflow_backend.py:197: The name tf.ConfigProto is deprecated. Please use tf.compat.v1.ConfigProto instead.\n",
            "\n",
            "WARNING:tensorflow:From /usr/local/lib/python3.6/dist-packages/keras/backend/tensorflow_backend.py:203: The name tf.Session is deprecated. Please use tf.compat.v1.Session instead.\n",
            "\n",
            "WARNING:tensorflow:From /usr/local/lib/python3.6/dist-packages/keras/backend/tensorflow_backend.py:207: The name tf.global_variables is deprecated. Please use tf.compat.v1.global_variables instead.\n",
            "\n",
            "WARNING:tensorflow:From /usr/local/lib/python3.6/dist-packages/keras/backend/tensorflow_backend.py:216: The name tf.is_variable_initialized is deprecated. Please use tf.compat.v1.is_variable_initialized instead.\n",
            "\n",
            "WARNING:tensorflow:From /usr/local/lib/python3.6/dist-packages/keras/backend/tensorflow_backend.py:223: The name tf.variables_initializer is deprecated. Please use tf.compat.v1.variables_initializer instead.\n",
            "\n",
            "WARNING:tensorflow:From /usr/local/lib/python3.6/dist-packages/keras/optimizers.py:793: The name tf.train.Optimizer is deprecated. Please use tf.compat.v1.train.Optimizer instead.\n",
            "\n",
            "WARNING:tensorflow:From /usr/local/lib/python3.6/dist-packages/keras/backend/tensorflow_backend.py:3576: The name tf.log is deprecated. Please use tf.math.log instead.\n",
            "\n",
            "WARNING:tensorflow:From /usr/local/lib/python3.6/dist-packages/tensorflow_core/python/ops/math_grad.py:1424: where (from tensorflow.python.ops.array_ops) is deprecated and will be removed in a future version.\n",
            "Instructions for updating:\n",
            "Use tf.where in 2.0, which has the same broadcast rule as np.where\n",
            "WARNING:tensorflow:From /usr/local/lib/python3.6/dist-packages/keras/backend/tensorflow_backend.py:1033: The name tf.assign_add is deprecated. Please use tf.compat.v1.assign_add instead.\n",
            "\n",
            "WARNING:tensorflow:From /usr/local/lib/python3.6/dist-packages/keras/backend/tensorflow_backend.py:1020: The name tf.assign is deprecated. Please use tf.compat.v1.assign instead.\n",
            "\n",
            "Agent 1 knowledge: a9 is true\n",
            "\n",
            "Agent 2 knowledge: a3 xor a9\n",
            "\n",
            "Asking agent 1 the following question: what is a3 ?\n",
            "\n",
            "Agent 1 response:  a3 is unknown . help\n",
            "\n",
            "Requesting help from agent 2\n",
            "\n",
            "Agent 2 knowledge base dump response:  a3 xor a9 . a3 is unknown .\n",
            "\n",
            "Asking agent 1 the same question again\n",
            "\n",
            "Agent 1's new response given Agent 2's knowledge dump:  a3 is false\n",
            "\n"
          ],
          "name": "stdout"
        }
      ]
    },
    {
      "cell_type": "markdown",
      "metadata": {
        "id": "j7H-t77X1d8u",
        "colab_type": "text"
      },
      "source": [
        ""
      ]
    }
  ]
}